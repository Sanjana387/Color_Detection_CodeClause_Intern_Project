{
 "cells": [
  {
   "cell_type": "markdown",
   "id": "fec365cc",
   "metadata": {},
   "source": [
    "<center>\n",
    "  <h1 style=\"background-color:purple; color:white; font-size:40px; font-weight:bold; font-family:Times New Roman; border:2px solid black;\">Color Detection </h1>\n",
    "</center>"
   ]
  },
  {
   "cell_type": "markdown",
   "id": "143fb5e7",
   "metadata": {},
   "source": [
    "<center>\n",
    "  <h1 style=\" color:black; font-size:40px; font-weight:bold; font-family:Times New Roman; border:2px solid black;\"> Install required libraries:</h1>\n",
    "</center>"
   ]
  },
  {
   "cell_type": "code",
   "execution_count": 1,
   "id": "734a1ee3",
   "metadata": {},
   "outputs": [
    {
     "name": "stdout",
     "output_type": "stream",
     "text": [
      "Requirement already satisfied: pandas in c:\\users\\admin 25\\anaconda3\\lib\\site-packages (1.5.3)\n",
      "Requirement already satisfied: opencv-python in c:\\users\\admin 25\\anaconda3\\lib\\site-packages (4.8.0.74)\n",
      "Requirement already satisfied: numpy>=1.21.0 in c:\\users\\admin 25\\anaconda3\\lib\\site-packages (from pandas) (1.23.5)\n",
      "Requirement already satisfied: pytz>=2020.1 in c:\\users\\admin 25\\anaconda3\\lib\\site-packages (from pandas) (2022.7)\n",
      "Requirement already satisfied: python-dateutil>=2.8.1 in c:\\users\\admin 25\\anaconda3\\lib\\site-packages (from pandas) (2.8.2)\n",
      "Requirement already satisfied: six>=1.5 in c:\\users\\admin 25\\anaconda3\\lib\\site-packages (from python-dateutil>=2.8.1->pandas) (1.16.0)\n",
      "Note: you may need to restart the kernel to use updated packages.\n"
     ]
    }
   ],
   "source": [
    "pip install pandas opencv-python"
   ]
  },
  {
   "cell_type": "markdown",
   "id": "5ff6cade",
   "metadata": {},
   "source": [
    "<center>\n",
    "  <h1 style=\" color:black; font-size:40px; font-weight:bold; font-family:Times New Roman; border:2px solid black;\"> Import the required libraries:</h1>\n",
    "</center>"
   ]
  },
  {
   "cell_type": "code",
   "execution_count": 2,
   "id": "5260d729",
   "metadata": {},
   "outputs": [],
   "source": [
    "import cv2\n",
    "import pandas as pd"
   ]
  },
  {
   "cell_type": "markdown",
   "id": "8a0083b1",
   "metadata": {},
   "source": [
    "<center>\n",
    "  <h1 style=\" color:black; font-size:40px; font-weight:bold; font-family:Times New Roman; border:2px solid black;\">Load The Data:</h1>\n",
    "</center>"
   ]
  },
  {
   "cell_type": "code",
   "execution_count": 3,
   "id": "c97ec8e4",
   "metadata": {},
   "outputs": [],
   "source": [
    "img_path ='C:/Users/Admin 25/Downloads/python-project-color-detection/colorpic.jpg'\n",
    "csv_path='C:/Users/Admin 25/Downloads/python-project-color-detection/colors.csv'"
   ]
  },
  {
   "cell_type": "code",
   "execution_count": 4,
   "id": "00656f30",
   "metadata": {},
   "outputs": [],
   "source": [
    "index =['color','color_name','hex','R','G','B']\n",
    "df = pd.read_csv(csv_path, names=index, header=None)"
   ]
  },
  {
   "cell_type": "code",
   "execution_count": 5,
   "id": "738ec916",
   "metadata": {},
   "outputs": [],
   "source": [
    "img = cv2.imread(img_path)\n",
    "img = cv2.resize(img,(800,600))"
   ]
  },
  {
   "cell_type": "code",
   "execution_count": 6,
   "id": "71be39c4",
   "metadata": {},
   "outputs": [],
   "source": [
    "clicked = False\n",
    "r=g=b=xpos=ypos=0"
   ]
  },
  {
   "cell_type": "code",
   "execution_count": 7,
   "id": "08b0e5d4",
   "metadata": {},
   "outputs": [],
   "source": [
    "def get_color(R,G,B):\n",
    "    minimum =1000\n",
    "    for i in range(len(df)):\n",
    "        d= abs(R-int(df.loc[i,'R']))+abs(G-int(df.loc[i,'G']))+abs(B-int(df.loc[i,'B']))\n",
    "        if d<=minimum:\n",
    "            minimum = d\n",
    "            cname = df.loc[i,'color_name']\n",
    "    return cname"
   ]
  },
  {
   "cell_type": "code",
   "execution_count": 8,
   "id": "dc6ee83f",
   "metadata": {},
   "outputs": [],
   "source": [
    "def draw_function(event, x, y, flags, parms):\n",
    "    if event == cv2.EVENT_LBUTTONDBLCLK:\n",
    "        global b, g, r, xpos, ypos, clicked\n",
    "        clicked = True\n",
    "        xpos = x\n",
    "        ypos = y\n",
    "        b,g,r = img[y,x]\n",
    "        b = int(b)\n",
    "        g = int(g)\n",
    "        r = int(r)"
   ]
  },
  {
   "cell_type": "code",
   "execution_count": 9,
   "id": "6ed01878",
   "metadata": {},
   "outputs": [],
   "source": [
    "cv2.namedWindow('image')\n",
    "cv2.setMouseCallback('image', draw_function)"
   ]
  },
  {
   "cell_type": "code",
   "execution_count": null,
   "id": "b5388b22",
   "metadata": {},
   "outputs": [],
   "source": [
    "\n",
    "    while True:\n",
    "        cv2.imshow('image', img)\n",
    "        if clicked:\n",
    "            cv2.rectangle(img, (20, 20), (600, 60), (b, g, r), -1)\n",
    "            text = get_color(r, g, b) + ' R=' + str(r) + ' G=' + str(g) + ' B=' + str(b)\n",
    "            cv2.putText(img, text, (50, 50), cv2.FONT_HERSHEY_SIMPLEX, 0.8, (255, 255, 255), 2, cv2.LINE_AA)\n",
    "            if r + g + b >= 600:\n",
    "                cv2.putText(img, text, (50, 50), cv2.FONT_HERSHEY_SIMPLEX, 0.8, (0, 0, 0), 2, cv2.LINE_AA)\n",
    "        if cv2.waitKey(20) & 0xFF == 27:\n",
    "            break\n",
    "    cv2.destroyAllWindows()\n",
    "\n"
   ]
  },
  {
   "cell_type": "markdown",
   "id": "04cc199f",
   "metadata": {},
   "source": [
    "<center>\n",
    "  <h1 style=\"background-color:purple; color:white; font-size:40px; font-weight:bold; font-family:Times New Roman; border:2px solid black;\">Thank You </h1>\n",
    "</center>"
   ]
  },
  {
   "cell_type": "code",
   "execution_count": null,
   "id": "3c59e2bf",
   "metadata": {},
   "outputs": [],
   "source": []
  }
 ],
 "metadata": {
  "kernelspec": {
   "display_name": "Python 3 (ipykernel)",
   "language": "python",
   "name": "python3"
  },
  "language_info": {
   "codemirror_mode": {
    "name": "ipython",
    "version": 3
   },
   "file_extension": ".py",
   "mimetype": "text/x-python",
   "name": "python",
   "nbconvert_exporter": "python",
   "pygments_lexer": "ipython3",
   "version": "3.10.9"
  }
 },
 "nbformat": 4,
 "nbformat_minor": 5
}
